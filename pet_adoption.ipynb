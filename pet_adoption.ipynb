{
 "cells": [
  {
   "cell_type": "markdown",
   "metadata": {},
   "source": [
    "# PET ADOPTION\n",
    "\n",
    "This project creates a representation of both pet adoption centers and the pet adopters, and assigns scores to each adopter relative to a certain adoption center. A higher score means a specific adopter is more likely to adopt a pet from a specific adoption center.\n",
    "\n",
    "The ultimate aim of this project is to practice object-oriented programming."
   ]
  },
  {
   "cell_type": "code",
   "execution_count": 1,
   "metadata": {},
   "outputs": [],
   "source": [
    "from operator import itemgetter\n",
    "\n",
    "from adoption.location import Location\n",
    "from adoption.adopter import Adopter\n",
    "from adoption.adoption_center import AdoptionCenter\n",
    "from adoption.allergic_adopter import AllergicAdopter\n",
    "from adoption.fearful_adopter import FearfulAdopter\n",
    "from adoption.flexible_adopter import FlexibleAdopter\n",
    "from adoption.medicated_allergic_adopter import MedicatedAllergicAdopter\n",
    "from adoption.sluggish_adopter import SluggishAdopter"
   ]
  },
  {
   "cell_type": "markdown",
   "metadata": {},
   "source": [
    "# INSTANTIATE THE ADOPTION CENTER"
   ]
  },
  {
   "cell_type": "markdown",
   "metadata": {},
   "source": [
    "### Adoption Center 1"
   ]
  },
  {
   "cell_type": "code",
   "execution_count": 2,
   "metadata": {},
   "outputs": [],
   "source": [
    "# types of species in Adoption Center 1 and the number of each specie\n",
    "species_types_1 = {\"Rabbit\": 3, \"Cat\": 4, \"Dog\": 2}    \n",
    "\n",
    "# location of Adoption Center 1\n",
    "adoption_center_location_1 = Location(5,4)        \n",
    "\n",
    "# an instance of Adoption Center 1 \n",
    "adoption_center_1 = AdoptionCenter(\"Lucas's Pet Adoption Centre\", species_types_1, adoption_center_location_1)  "
   ]
  },
  {
   "cell_type": "markdown",
   "metadata": {},
   "source": [
    "## Adoption Center 2"
   ]
  },
  {
   "cell_type": "code",
   "execution_count": 3,
   "metadata": {},
   "outputs": [],
   "source": [
    "# types of species in Adoption Center 2 and the number of each specie\n",
    "species_types_2 = {\"Horse\": 3, \"Monkey\": 4, \"Dog\": 2, \"Cat\": 2}     \n",
    "\n",
    "# location of Adoption Center 2\n",
    "adoption_center_location_2 = Location(2,6)  \n",
    "\n",
    "# an instance of Adoption Center 2\n",
    "adoption_center_2 = AdoptionCenter(\"John's Pet Adoption Centre\", species_types_2, adoption_center_location_2)"
   ]
  },
  {
   "cell_type": "markdown",
   "metadata": {},
   "source": [
    "## Adoption Center 3"
   ]
  },
  {
   "cell_type": "code",
   "execution_count": 4,
   "metadata": {},
   "outputs": [],
   "source": [
    "# types of species in Adoption Center 3 and the number of each specie\n",
    "species_types_3 = {\"Mouse\": 3, \"Cat\": 4, \"Horse\": 2}\n",
    "\n",
    "# location of Adoption Center 3\n",
    "adoption_center_location_3 = Location(8,2) \n",
    "\n",
    "# an instance of Adoption Center 2\n",
    "adoption_center_3 = AdoptionCenter(\"Peter's Pet Adoption Centre\", species_types_3, adoption_center_location_3)"
   ]
  },
  {
   "cell_type": "markdown",
   "metadata": {},
   "source": [
    "# INSTANTIATE EACH ADOPTER"
   ]
  },
  {
   "cell_type": "markdown",
   "metadata": {},
   "source": [
    "### The Normal/Regular Adopter"
   ]
  },
  {
   "cell_type": "code",
   "execution_count": 5,
   "metadata": {},
   "outputs": [],
   "source": [
    "# an instance of the normal Adopter class\n",
    "normal_adopter = Adopter(\"Normal Adopter\", \"Cat\")   "
   ]
  },
  {
   "cell_type": "markdown",
   "metadata": {},
   "source": [
    "### The Flexible Adopter"
   ]
  },
  {
   "cell_type": "code",
   "execution_count": 6,
   "metadata": {},
   "outputs": [],
   "source": [
    "# alternative species that the Flexible Adopter can adopt \n",
    "# if the adoption center does not have the desired specie\n",
    "others = [\"Cat\", \"Dog\"]                    \n",
    "\n",
    "# an instance of the Flexible Adopter class\n",
    "flexiAdopter = FlexibleAdopter(\"Flexi Adopter\", \"Horse\", others)     "
   ]
  },
  {
   "cell_type": "markdown",
   "metadata": {},
   "source": [
    "### The Fearful Adopter"
   ]
  },
  {
   "cell_type": "code",
   "execution_count": 7,
   "metadata": {},
   "outputs": [],
   "source": [
    "# species that the Fearful Adopter is afraid of\n",
    "feared_pet = \"Horse\"                                                      \n",
    "\n",
    "# an instance of the Fearful Adopter class\n",
    "fearfulAdopter = FearfulAdopter(\"Fearful Adopter\", \"Dog\", feared_pet)     "
   ]
  },
  {
   "cell_type": "markdown",
   "metadata": {},
   "source": [
    "### The Allergic Adopter"
   ]
  },
  {
   "cell_type": "code",
   "execution_count": 8,
   "metadata": {},
   "outputs": [],
   "source": [
    "# the species that the Allergic Adopter has allergy for\n",
    "allergic_species = [\"Goat\", \"Rabbit\", 'Bull']                                               \n",
    "\n",
    "# an instance of the Allergic Adopter class\n",
    "allergicAdopter = AllergicAdopter(\"Allergic Adopter\", \"Lion\", allergic_species)   "
   ]
  },
  {
   "cell_type": "markdown",
   "metadata": {},
   "source": [
    "### The Medicated Allergic Adopter"
   ]
  },
  {
   "cell_type": "code",
   "execution_count": 9,
   "metadata": {},
   "outputs": [],
   "source": [
    "# medicine effectiveness to certain species\n",
    "medicine_effectiveness = {\"Goat\": 0.5, \"Rabbit\": 0.8, \"Horse\": 0.2}                                                                     \n",
    "\n",
    "# an instance of the Medicated Allergic Adopter class\n",
    "medicatedAllergicAdopter = MedicatedAllergicAdopter(\"Medicated Allergic Adopter\", \"Lion\", \\\n",
    "                                                    allergic_species, medicine_effectiveness)   "
   ]
  },
  {
   "cell_type": "code",
   "execution_count": 10,
   "metadata": {},
   "outputs": [
    {
     "data": {
      "text/plain": [
       "{'Mouse': 3, 'Cat': 4, 'Horse': 2}"
      ]
     },
     "execution_count": 10,
     "metadata": {},
     "output_type": "execute_result"
    }
   ],
   "source": [
    " {\"Mouse\": 3, \"Cat\": 4, \"Horse\": 2}"
   ]
  },
  {
   "cell_type": "markdown",
   "metadata": {},
   "source": [
    "### The Sluggish Adopter"
   ]
  },
  {
   "cell_type": "code",
   "execution_count": 11,
   "metadata": {},
   "outputs": [],
   "source": [
    "# location of the Sluggish Adopter\n",
    "sluggishAdopter_location = Location(1,2)                                                       \n",
    "\n",
    "# instance of the Sluggish Adopter\n",
    "sluggishAdopter = SluggishAdopter(\"Sluggish Adopter\",\"Rabbit\", sluggishAdopter_location)       "
   ]
  },
  {
   "cell_type": "markdown",
   "metadata": {},
   "source": [
    "## LIST OF ADOPTION CENTERS AND ADOPTERS "
   ]
  },
  {
   "cell_type": "code",
   "execution_count": 12,
   "metadata": {},
   "outputs": [],
   "source": [
    "# List of Adoption Centers\n",
    "list_of_adoption_centers = [adoption_center_1, adoption_center_2, adoption_center_3]\n",
    "\n",
    "# List of Adopters\n",
    "list_of_adopters = [normal_adopter, flexiAdopter, fearfulAdopter, allergicAdopter, medicatedAllergicAdopter, sluggishAdopter]"
   ]
  },
  {
   "cell_type": "markdown",
   "metadata": {},
   "source": [
    "## Help an Adopter visit Adoption Centers in the Best Order"
   ]
  },
  {
   "cell_type": "code",
   "execution_count": 13,
   "metadata": {},
   "outputs": [],
   "source": [
    "def get_ordered_adoption_center_list(adopter, list_of_adoption_centers):\n",
    "    \"\"\"\n",
    "        Computes the scores for each adoption center visited.\n",
    "        \n",
    "        args:\n",
    "            adopter: name of an adopter\n",
    "            list_of_adoption_centers: list of each adoption center visited by the adopter\n",
    "            \n",
    "        returns:\n",
    "            a sorted list of of scores for the adopter from all adoption centers visited\n",
    "        \n",
    "    \"\"\"\n",
    "    # dictionary to hold scores per adoption center\n",
    "    adoption_center_score = {}\n",
    "    \n",
    "    # list of scores ordered in descending order per Adoption center\n",
    "    adoption_center_score_list = []\n",
    "\n",
    "    # loop through the list of Adoption Centers\n",
    "    # get the scores for each Adoption Center to the Adopter\n",
    "    # populate a dictionary with adoption center/score pairs\n",
    "    for adoption_center in list_of_adoption_centers:                                            \n",
    "        adoption_center_score[adoption_center.get_name()] = adopter.get_score(adoption_center)  \n",
    "\n",
    "        \n",
    "    # sort the dictionary in a numerical decreasing order and append each key-value pair into a list\n",
    "    for adoption_center, score in sorted(adoption_center_score.items(), key = itemgetter(1), reverse=True):  \n",
    "        adoption_center_score_list.append(\"{}: {}\".format(adoption_center, score))\n",
    "\n",
    "    return adoption_center_score_list"
   ]
  },
  {
   "cell_type": "markdown",
   "metadata": {},
   "source": [
    "## Help an AdoptionCenter select Adopters"
   ]
  },
  {
   "cell_type": "code",
   "execution_count": 14,
   "metadata": {},
   "outputs": [],
   "source": [
    "def get_adopters_for_advertisement(adoption_center, list_of_adopters, num_top_adopters):\n",
    "    \"\"\"\n",
    "        Function returns a list of top n scoring Adopters from list of adopters\n",
    "        \n",
    "        args:\n",
    "            adoption_center:  an instance of an Adoption Center\n",
    "            list_of_adopters: a list of instances of Adopters (or subclass of Adopter)\n",
    "            num_top_adopters: The maximum number of adopters who will be sent advertisements. \n",
    "                              [where num_top_adopters >= 0 and may be longer than the list_of_adopters, \n",
    "                              in which case less than num_top_adopters advertisements will be sent out.] \n",
    "    \"\"\"\n",
    "    # dictionary to hold scores per Adopter\n",
    "    score_per_Adopter = {}\n",
    "    \n",
    "    # list of scores ordered in descending order per Adopter\n",
    "    score_per_Adopter_list = []\n",
    "\n",
    "    # loop through the list of Adoptors\n",
    "    # get the scores for each Adopter\n",
    "    # populate a dictionary with Adopter name/score pairs\n",
    "    for adopter in list_of_adopters:                                                 \n",
    "        score_per_Adopter[adopter.get_name()] = adopter.get_score(adoption_center)\n",
    "\n",
    "    # sort the dictionary in a numerical decreasing order and append each key-value pair into a list\n",
    "    for adopter, score in sorted(score_per_Adopter.items(), key = itemgetter(1), reverse=True):\n",
    "        score_per_Adopter_list.append(\"{}: {}\".format(adopter, score))\n",
    "\n",
    "    return score_per_Adopter_list[:num_top_adopters]"
   ]
  },
  {
   "cell_type": "markdown",
   "metadata": {},
   "source": [
    "#### Iterate over the list of Adopters and display the scores of each Adoption Center the Adopter visited"
   ]
  },
  {
   "cell_type": "code",
   "execution_count": 15,
   "metadata": {},
   "outputs": [
    {
     "name": "stdout",
     "output_type": "stream",
     "text": [
      "====PRINTS EACH ADOPTION CENTRE'S SCORE FOR EACH ADOPTER====\n",
      "\n",
      "Normal Adopter wants to adopt a Cat :\n",
      "[\"Lucas's Pet Adoption Centre: 4\", \"Peter's Pet Adoption Centre: 4\", \"John's Pet Adoption Centre: 2\"]\n",
      "\n",
      "Flexi Adopter wants to adopt a Horse :\n",
      "Lucas's Pet Adoption Centre does not have a Horse for Flexi Adopter.\n",
      "[\"John's Pet Adoption Centre: 4.2\", \"Peter's Pet Adoption Centre: 3.2\", \"Lucas's Pet Adoption Centre: 1.8\"]\n",
      "\n",
      "Fearful Adopter wants to adopt a Dog :\n",
      "Peter's Pet Adoption Centre does not have a Dog for Fearful Adopter.\n",
      "[\"Lucas's Pet Adoption Centre: 2.0\", \"John's Pet Adoption Centre: 2.0\", \"Peter's Pet Adoption Centre: 0.0\"]\n",
      "\n",
      "Allergic Adopter wants to adopt a Lion :\n",
      "John's Pet Adoption Centre does not have a Lion for Allergic Adopter.\n",
      "Peter's Pet Adoption Centre does not have a Lion for Allergic Adopter.\n",
      "[\"Lucas's Pet Adoption Centre: 0\", \"John's Pet Adoption Centre: 0\", \"Peter's Pet Adoption Centre: 0\"]\n",
      "\n",
      "Medicated Allergic Adopter wants to adopt a Lion :\n",
      "[\"John's Pet Adoption Centre: 1\", \"Peter's Pet Adoption Centre: 1\", \"Lucas's Pet Adoption Centre: 0.8\"]\n",
      "\n",
      "Sluggish Adopter wants to adopt a Rabbit :\n",
      "John's Pet Adoption Centre does not have a Rabbit for Sluggish Adopter.\n",
      "Peter's Pet Adoption Centre does not have a Rabbit for Sluggish Adopter.\n",
      "[\"Lucas's Pet Adoption Centre: 1.9\", \"John's Pet Adoption Centre: 0.0\", \"Peter's Pet Adoption Centre: 0.0\"]\n",
      "\n"
     ]
    }
   ],
   "source": [
    "print(\"====PRINTS EACH ADOPTION CENTRE'S SCORE FOR EACH ADOPTER====\\n\")\n",
    "\n",
    "for adopter in list_of_adopters:\n",
    "    print(adopter.get_name(),\"wants to adopt a\", adopter.get_desired_species(), \":\")\n",
    "    print(\"{}\\n\".format(get_ordered_adoption_center_list(adopter, list_of_adoption_centers)))"
   ]
  },
  {
   "cell_type": "markdown",
   "metadata": {},
   "source": [
    "#### Iterate over the list of Adoption Centers and display the scores of the top three Adopters."
   ]
  },
  {
   "cell_type": "code",
   "execution_count": 16,
   "metadata": {},
   "outputs": [
    {
     "name": "stdout",
     "output_type": "stream",
     "text": [
      "====PRINTS THE TOP THREE ADOPTERS EACH ADOPTION CENTRE====\n",
      "\n",
      "Lucas's Pet Adoption Centre only has {'Rabbit': 3, 'Cat': 4, 'Dog': 2}\n",
      "Lucas's Pet Adoption Centre does not have a Horse for Flexi Adopter.\n",
      "['Normal Adopter: 4', 'Fearful Adopter: 2.0', 'Sluggish Adopter: 1.99']\n",
      "\n",
      "John's Pet Adoption Centre only has {'Horse': 3, 'Monkey': 4, 'Dog': 2, 'Cat': 2}\n",
      "John's Pet Adoption Centre does not have a Lion for Allergic Adopter.\n",
      "John's Pet Adoption Centre does not have a Rabbit for Sluggish Adopter.\n",
      "['Flexi Adopter: 4.2', 'Normal Adopter: 2', 'Fearful Adopter: 2.0']\n",
      "\n",
      "Peter's Pet Adoption Centre only has {'Mouse': 3, 'Cat': 4, 'Horse': 2}\n",
      "Peter's Pet Adoption Centre does not have a Dog for Fearful Adopter.\n",
      "Peter's Pet Adoption Centre does not have a Lion for Allergic Adopter.\n",
      "Peter's Pet Adoption Centre does not have a Rabbit for Sluggish Adopter.\n",
      "['Normal Adopter: 4', 'Flexi Adopter: 3.2', 'Medicated Allergic Adopter: 1']\n",
      "\n"
     ]
    }
   ],
   "source": [
    "print(\"====PRINTS THE TOP THREE ADOPTERS EACH ADOPTION CENTRE====\\n\")\n",
    "\n",
    "for adoption_center in list_of_adoption_centers:\n",
    "    print(adoption_center.get_name(), \"only has\", adoption_center.species_types)\n",
    "    print(\"{}\\n\".format(get_adopters_for_advertisement(adoption_center, list_of_adopters, 3)))"
   ]
  },
  {
   "cell_type": "code",
   "execution_count": null,
   "metadata": {},
   "outputs": [],
   "source": []
  }
 ],
 "metadata": {
  "kernelspec": {
   "display_name": "Python 3",
   "language": "python",
   "name": "python3"
  },
  "language_info": {
   "codemirror_mode": {
    "name": "ipython",
    "version": 3
   },
   "file_extension": ".py",
   "mimetype": "text/x-python",
   "name": "python",
   "nbconvert_exporter": "python",
   "pygments_lexer": "ipython3",
   "version": "3.8.3"
  }
 },
 "nbformat": 4,
 "nbformat_minor": 2
}
